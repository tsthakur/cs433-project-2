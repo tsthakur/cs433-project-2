{
 "cells": [
  {
   "cell_type": "markdown",
   "metadata": {},
   "source": [
    "## Import"
   ]
  },
  {
   "cell_type": "code",
   "execution_count": 45,
   "metadata": {},
   "outputs": [],
   "source": [
    "from aiida import load_profile, orm\n",
    "# specify the name that you used while setting up the profile using verdi quicksetup\n",
    "load_profile('me') \n",
    "from aiida.common.exceptions import NotExistent\n",
    "from aiida.plugins import WorkflowFactory, CalculationFactory, GroupFactory\n",
    "from aiida_quantumespresso.common.types import ElectronicType\n",
    "from aiida.engine import submit\n",
    "import numpy as np\n",
    "import matplotlib.pyplot as plt\n",
    "import time\n",
    "from pymatgen.core.periodic_table import Element\n",
    "from ase.io import read, write\n",
    "import time\n",
    "bohr_to_ang = 0.52917720859\n",
    "ry_to_ev=13.6056917253"
   ]
  },
  {
   "cell_type": "markdown",
   "metadata": {},
   "source": [
    "## PreProcessing"
   ]
  },
  {
   "cell_type": "markdown",
   "metadata": {},
   "source": [
    "### extxyz dataset generation"
   ]
  },
  {
   "cell_type": "code",
   "execution_count": 14,
   "metadata": {},
   "outputs": [
    {
     "name": "stdout",
     "output_type": "stream",
     "text": [
      "(1633, 56, 3) (1633, 56, 3) (1633,) (1633, 3, 3) (1633, 3, 3) 56\n"
     ]
    }
   ],
   "source": [
    "## Loading variables\n",
    "\n",
    "trajectory = orm.load_node('3be5344a-8677-4be9-9f91-52549cb0436a') # 2fs \n",
    "stride = 3 # we only take every 3rd data point as all these configurations are highly correlated\n",
    "equilibration = 300 # we skip the first few datapoints till the system reaches equilibirum \n",
    "\n",
    "positions = trajectory.get_array('positions')[equilibration::stride]\n",
    "forces = trajectory.get_array('forces')[equilibration::stride]\n",
    "energies = trajectory.get_array('energy')[equilibration::stride]\n",
    "stresses = trajectory.get_array('stress')[equilibration::stride]\n",
    "cells = trajectory.get_array('cells')[equilibration::stride]\n",
    "\n",
    "symbols = trajectory.attributes['symbols']\n",
    "nat = len(symbols)\n",
    "\n",
    "print(positions.shape, forces.shape, energies.shape, stresses.shape, cells.shape, len(symbols))"
   ]
  },
  {
   "cell_type": "code",
   "execution_count": 15,
   "metadata": {},
   "outputs": [],
   "source": [
    "## To print out training set\n",
    "\n",
    "with open('iteration_1.extxyz', 'w') as file:\n",
    "    # redirect stdout to the file\n",
    "    sys.stdout = file\n",
    "\n",
    "    # the print statements here\n",
    "    for position, force, cell, energy, stress in zip(positions, forces, cells, energies, stresses):\n",
    "        cell_to_print = ' '.join(map(str, cell.flatten()))\n",
    "        stress_to_print = ' '.join(map(str, stress.flatten()))\n",
    "        print(nat)\n",
    "        print(f'Lattice=\"{cell_to_print}\" Properties=species:S:1:pos:R:3:forces:R:3 energy={energy} stress=\"{stress_to_print}\" pbc=\"T T T\"')\n",
    "        for symbol, pos, fo in zip(symbols, position, force):\n",
    "            print(symbol, ' '.join(map(str, pos.flatten())), ' '.join(map(str, fo.flatten())))\n",
    "\n",
    "    # reset stdout to the console\n",
    "    sys.stdout = sys.__stdout__"
   ]
  },
  {
   "cell_type": "code",
   "execution_count": null,
   "metadata": {},
   "outputs": [],
   "source": [
    "# To ensure that the generated dataset is readable by ase\n",
    "frames = read(filename='Li3BS3.extxyz', format='extxyz', index=':')\n",
    "write(images=frames, filename='lbs.extxyz', append=True, format='extxyz')"
   ]
  },
  {
   "cell_type": "code",
   "execution_count": null,
   "metadata": {},
   "outputs": [],
   "source": [
    "## list of important hyperparameters to optimise\n",
    "num_layers = 4\n",
    "num_features = 32 \n",
    "l_max = 2\n",
    "r_max = 4.0\n",
    "learning_rate = 0.0075\n",
    "parity = False\n",
    "optimizer_amsgrad = False"
   ]
  },
  {
   "cell_type": "markdown",
   "metadata": {},
   "source": [
    "### npz dataset generation"
   ]
  },
  {
   "cell_type": "code",
   "execution_count": null,
   "metadata": {},
   "outputs": [],
   "source": [
    "## We did not use this but we keep it here for future reference"
   ]
  },
  {
   "cell_type": "code",
   "execution_count": 73,
   "metadata": {},
   "outputs": [
    {
     "name": "stdout",
     "output_type": "stream",
     "text": [
      "['E', 'name', 'F', 'theory', 'R', 'z', 'type', 'md5']\n"
     ]
    },
    {
     "data": {
      "text/plain": [
       "((1000, 1),\n",
       " array(b'aspirin_ccsd', dtype='|S12'),\n",
       " (1000, 21, 3),\n",
       " (1000, 21, 3),\n",
       " (21,))"
      ]
     },
     "execution_count": 73,
     "metadata": {},
     "output_type": "execute_result"
    }
   ],
   "source": [
    "## To check what are the fields in the npz file\n",
    "train = np.load('/home/tthakur/git/cs433/project2/ex_runs/benchmark_data/aspirin_ccsd-train.npz')\n",
    "print(train.files)\n",
    "train['E'].shape, train['name'], train['F'].shape, train['R'].shape, train['z'].shape"
   ]
  },
  {
   "cell_type": "code",
   "execution_count": null,
   "metadata": {},
   "outputs": [],
   "source": [
    "trajectory = orm.load_node('0f7277a0-b7c2-4935-9108-7414f87d760e')\n",
    "\n",
    "# In trajectory\n",
    "# Energies in eV\n",
    "# Positions in Ang\n",
    "# Forces in eV/Ang\n",
    "# z is species atomic no."
   ]
  },
  {
   "cell_type": "code",
   "execution_count": 55,
   "metadata": {},
   "outputs": [],
   "source": [
    "positions = trajectory.get_array('positions')\n",
    "forces = trajectory.get_array('forces')\n",
    "energies = trajectory.get_array('energy').reshape(-1,1)\n",
    "stresses = trajectory.get_array('stress')\n",
    "\n",
    "symbols = trajectory.attributes['symbols']\n",
    "z = [Element(sym).number for sym in symbols]\n",
    "tiled_symbols = np.tile(z, (len(energies),1))\n",
    "\n",
    "cell = trajectory.get_array('cells')[0]\n",
    "N = len(energies)\n",
    "\n",
    "np.savez('data_set.npz',z=tiled_symbols,E=energies,F=forces,R=positions,pbc=True,cell=cell)"
   ]
  },
  {
   "cell_type": "code",
   "execution_count": null,
   "metadata": {},
   "outputs": [],
   "source": [
    "symbols = trajectory.attributes['symbols']\n",
    "nat  = len(symbols)\n",
    "cell = trajectory.get_array('cells')[0]\n",
    "\n",
    "# Load the files\n",
    "# Energies in Ry\n",
    "# Positions in Ang\n",
    "# Forces in Ry/bohr\n",
    "energies   = np.loadtxt('energies')\n",
    "positions  = np.loadtxt('allpositions_all')\n",
    "forces     = np.loadtxt('forces')\n",
    "\n",
    "b2a = 0.529177\n",
    "\n",
    "#\n",
    "N     = len(energies)\n",
    "\n",
    "#############\n",
    "# TRAIN SET #\n",
    "#############\n",
    "#\n",
    "E      = np.zeros([N,1]   ,float)\n",
    "R      = np.zeros([N,nat,3],float)\n",
    "F      = np.zeros([N,nat,3],float)\n",
    "z      = np.zeros([N,nat],float)\n",
    "#\n",
    "with open('calculated_energies','w') as f, open('calculated_forces','w') as f2:\n",
    " for i in range(N):\n",
    "  E[i]       =  energies[i]  * 13.6        # (eV)\n",
    "  f.write(\"%12.8f \\n\" %E[i])\n",
    "  #\n",
    "  idx          = nat * i\n",
    "  for j in range(nat):\n",
    "    R[i,j,:]   = positions[idx+j,1:]              # ang\n",
    "    F[i,j,:]   =    forces[idx+j,:] * 13.6 / b2a # eV/ang\n",
    "    f2.write(\"%12.8f %12.8f %12.8f \\n\" %(abs(F[i,j,0]),abs(F[i,j,1]),abs(F[i,j,2])))\n",
    "    z[i,j]     = int(anum[int(positions[idx+j,0])-1])\n",
    "\n",
    "pbc = (True, True, True)\n",
    "\n",
    "np.savez('data_set.npz',z=z,E=E,F=F,R=R,pbc=pbc,cell=cell)"
   ]
  },
  {
   "cell_type": "markdown",
   "metadata": {},
   "source": [
    "### Lammps input generation"
   ]
  },
  {
   "cell_type": "code",
   "execution_count": 5,
   "metadata": {},
   "outputs": [],
   "source": [
    "lbs_ss = orm.load_node('2797878d-d875-423e-b95b-f781966f3e27') # 56 atoms\n",
    "write(images=lbs_ss.get_ase(), filename='LBS.lmp', format='lammps-data')\n",
    "\n",
    "## NOTE: the file generated here has Li as species 2 and B as species 1 so need to reverse that manually"
   ]
  },
  {
   "cell_type": "markdown",
   "metadata": {},
   "source": [
    "## FPMD"
   ]
  },
  {
   "cell_type": "markdown",
   "metadata": {},
   "source": [
    "### Structure generation"
   ]
  },
  {
   "cell_type": "code",
   "execution_count": null,
   "metadata": {},
   "outputs": [],
   "source": [
    "# Run following in the conda environment `aiida168` to generate the supercells\n",
    "# please note that this cell will not run in this environment as the required modules are not installed\n",
    "\n",
    "from aiida_flipper.workflows.preprocess import make_supercell_distance, delithiate_structure\n",
    "# The following structure was generated using a cif file containing experimental structure and cleaned using aiida_codtools\n",
    "structure = orm.load_node('079a963c-358d-4c7b-a37e-1532f2c1540c')\n",
    "ss8 = make_supercell_distance(structure, orm.Float(8.)) # 56 atoms\n",
    "ss10 = make_supercell_distance(structure, orm.Float(10.)) # 84 atoms\n",
    "\n",
    "# Showing a workable example of how this was done is beyond the scope as it requires a lot of different aiida plugins,\n",
    "# which have their own complex dependencies"
   ]
  },
  {
   "cell_type": "code",
   "execution_count": 3,
   "metadata": {},
   "outputs": [],
   "source": [
    "lbs_uc = orm.load_node('079a963c-358d-4c7b-a37e-1532f2c1540c')\n",
    "# lbs_ss = orm.load_node('075d6d25-40af-4176-9d8f-e2a17302b2e8') # 84 atoms\n",
    "# we use smaller supercell for faster calculation\n",
    "lbs_ss = orm.load_node('2797878d-d875-423e-b95b-f781966f3e27') # 56 atoms"
   ]
  },
  {
   "cell_type": "markdown",
   "metadata": {},
   "source": [
    "### Launching calculation"
   ]
  },
  {
   "cell_type": "code",
   "execution_count": 5,
   "metadata": {},
   "outputs": [
    {
     "name": "stdout",
     "output_type": "stream",
     "text": [
      "Submitted BaseWorkChain with PK = 63976 to Group <Project_2_aimd_pbesol_daint_gpu>\n"
     ]
    }
   ],
   "source": [
    "## MD calculations\n",
    "\n",
    "## IMPORTANT: This cell will not work if you don't have the permission to use the LUMI-GPU cluster\n",
    "\n",
    "'''\n",
    "Run 1 = 40975\n",
    "dt = 80, fixed occupations, nosym = False, kpoints = [3,3,2]\n",
    "\n",
    "Run 2 = 40990\n",
    "dt = 40, gaussian smearing = 0.003, nosym = True, kpoints = [2,2,2]\n",
    "\n",
    "Run 3 = 42170 on daint\n",
    "dt = 80, fixed occupations, nosym = True, kpoints = [2,2,2]\n",
    "\n",
    "Run 4 = 63976\n",
    "dt = 40, fixed occupations, nosym = True, kpoints = [3,3,2]\n",
    "This is the one that we use finally\n",
    "\n",
    "'''\n",
    "\n",
    "PwBaseWorkChain = WorkflowFactory('quantumespresso.pw.base')\n",
    "overrides = {\"pseudo_family\": \"SSSP/1.3/PBEsol/efficiency\"}\n",
    "\n",
    "group_label = 'Project_2_aimd_pbesol_daint_gpu'\n",
    "try:\n",
    "    group = orm.load_group(group_label)\n",
    "except NotExistent:\n",
    "    print(f'Group<{group_label}> does not exist, creating...')\n",
    "    group = orm.Group(label=group_label)\n",
    "    group.store()\n",
    "\n",
    "builder = PwBaseWorkChain.get_builder_from_protocol(code=orm.load_code('qe-sirius@lumi-gpu'), structure=lbs_ss, \n",
    "overrides=overrides, electronic_type=ElectronicType.INSULATOR)\n",
    "\n",
    "builder.pw.metadata.options['mpirun_extra_params'] = ['--cpu-bind=verbose,${CPU_BIND}', '--gpu-bind=verbose,${GPU_BIND}']\n",
    "\n",
    "builder.pw.metadata['options']['max_wallclock_seconds'] = 172500\n",
    "builder.pw.metadata['options']['resources']['num_machines'] = 1\n",
    "\n",
    "builder.pw.parallelization = orm.Dict(dict={'npool': 8})\n",
    "\n",
    "builder['pw']['parameters']['CONTROL']['calculation'] = 'md'\n",
    "builder['pw']['parameters']['CONTROL']['dt'] = 40\n",
    "builder['pw']['parameters']['CONTROL']['iprint'] = 1\n",
    "builder['pw']['parameters']['CONTROL']['nstep'] = 5200 #10ps\n",
    "builder['pw']['parameters']['CONTROL']['verbosity'] = 'low'\n",
    "\n",
    "builder['pw']['parameters']['SYSTEM']['nosym'] = True\n",
    "\n",
    "builder['pw']['parameters']['ELECTRONS']['conv_thr'] *= 10 \n",
    "builder['pw']['parameters']['ELECTRONS']['mixing_beta'] = 0.2\n",
    "\n",
    "builder['max_iterations'] = orm.Int(3)\n",
    "\n",
    "para_d = builder['pw']['parameters'].get_dict()\n",
    "\n",
    "para_d.update({'IONS':{\n",
    "    'ion_temperature':'svr', \n",
    "    'ion_velocities': 'from_input',\n",
    "    'nraise':100, \n",
    "    'tempw':1000, \n",
    "    'wfc_extrapolation':'first_order', \n",
    "    'pot_extrapolation':'first_order'\n",
    "}})\n",
    "\n",
    "builder['pw']['parameters'] = orm.Dict(dict=para_d)\n",
    "builder['pw']['settings'] = orm.Dict({'gamma_only': False, 'cmdline': ['-sirius_cfg', 'sirius.json']})\n",
    "\n",
    "builder['kpoints_distance'] = orm.Float(0.33)\n",
    "\n",
    "builder.clean_workdir = orm.Bool(False)\n",
    "\n",
    "wc_node = submit(builder)\n",
    "\n",
    "print(f'Submitted BaseWorkChain with PK = {wc_node.pk} to Group <{group.label}>')\n",
    "group.add_nodes(wc_node)"
   ]
  },
  {
   "cell_type": "markdown",
   "metadata": {},
   "source": [
    "### Querying"
   ]
  },
  {
   "cell_type": "code",
   "execution_count": 42,
   "metadata": {},
   "outputs": [
    {
     "name": "stdout",
     "output_type": "stream",
     "text": [
      "4\n",
      "(1, 56, 3)\n",
      "(1, 56, 3)\n",
      "(5199, 56, 3)\n"
     ]
    }
   ],
   "source": [
    "group_lable = 'Project_2_aimd_pbesol_daint_gpu'\n",
    "qb = orm.QueryBuilder()\n",
    "qb.append(orm.Group, filters={'label':{'like':group_lable}}, tag='imported_g')\n",
    "qb.append(WorkflowFactory('quantumespresso.pw.base'), with_group='imported_g', tag='base',\n",
    "filters={'and':[{'attributes.process_state': {'==': 'finished'}}, ]})\n",
    "print(qb.count())\n",
    "base_wcs = qb.all(flat=True)\n",
    "qb.append(orm.TrajectoryData, with_incoming='base')\n",
    "trajectories = qb.all(flat=True)\n",
    "for traj in trajectories:\n",
    "    print(traj.get_array('positions').shape)\n",
    "\n",
    "# Based on the shape, only the last calculation generated all the data needed for training"
   ]
  },
  {
   "cell_type": "markdown",
   "metadata": {},
   "source": [
    "## New dataset generation"
   ]
  },
  {
   "cell_type": "markdown",
   "metadata": {},
   "source": [
    "### Launching calculation"
   ]
  },
  {
   "cell_type": "code",
   "execution_count": null,
   "metadata": {},
   "outputs": [],
   "source": [
    "## Taking the dumps of lammps i.e. configurations generated during the MD simulation,\n",
    "## and launching PwBaseWC on them i.e. run DFT calculations to get more data for further training\n",
    "## l_dump also contains forces so this can be useful to plot NequIP forces with DFT forces"
   ]
  },
  {
   "cell_type": "code",
   "execution_count": 12,
   "metadata": {},
   "outputs": [
    {
     "name": "stdout",
     "output_type": "stream",
     "text": [
      "Submitted BaseWorkChain with PK = 69912 to Group <Project_2_DFT_calculations_lumi_gpu>\n",
      "Submitted BaseWorkChain with PK = 69927 to Group <Project_2_DFT_calculations_lumi_gpu>\n",
      "Submitted BaseWorkChain with PK = 69942 to Group <Project_2_DFT_calculations_lumi_gpu>\n",
      "Submitted BaseWorkChain with PK = 69957 to Group <Project_2_DFT_calculations_lumi_gpu>\n",
      "Submitted BaseWorkChain with PK = 69974 to Group <Project_2_DFT_calculations_lumi_gpu>\n",
      "Submitted BaseWorkChain with PK = 69989 to Group <Project_2_DFT_calculations_lumi_gpu>\n",
      "Submitted BaseWorkChain with PK = 70004 to Group <Project_2_DFT_calculations_lumi_gpu>\n",
      "Submitted BaseWorkChain with PK = 70019 to Group <Project_2_DFT_calculations_lumi_gpu>\n",
      "Submitted BaseWorkChain with PK = 70034 to Group <Project_2_DFT_calculations_lumi_gpu>\n",
      "Submitted BaseWorkChain with PK = 70049 to Group <Project_2_DFT_calculations_lumi_gpu>\n",
      "Submitted BaseWorkChain with PK = 70065 to Group <Project_2_DFT_calculations_lumi_gpu>\n",
      "Submitted BaseWorkChain with PK = 70084 to Group <Project_2_DFT_calculations_lumi_gpu>\n",
      "Submitted BaseWorkChain with PK = 70102 to Group <Project_2_DFT_calculations_lumi_gpu>\n",
      "Submitted BaseWorkChain with PK = 70117 to Group <Project_2_DFT_calculations_lumi_gpu>\n",
      "Submitted BaseWorkChain with PK = 70132 to Group <Project_2_DFT_calculations_lumi_gpu>\n",
      "Submitted BaseWorkChain with PK = 70147 to Group <Project_2_DFT_calculations_lumi_gpu>\n",
      "Submitted BaseWorkChain with PK = 70162 to Group <Project_2_DFT_calculations_lumi_gpu>\n",
      "Submitted BaseWorkChain with PK = 70177 to Group <Project_2_DFT_calculations_lumi_gpu>\n",
      "Submitted BaseWorkChain with PK = 70193 to Group <Project_2_DFT_calculations_lumi_gpu>\n",
      "Submitted BaseWorkChain with PK = 70213 to Group <Project_2_DFT_calculations_lumi_gpu>\n",
      "Submitted BaseWorkChain with PK = 70228 to Group <Project_2_DFT_calculations_lumi_gpu>\n",
      "Submitted BaseWorkChain with PK = 70243 to Group <Project_2_DFT_calculations_lumi_gpu>\n",
      "Submitted BaseWorkChain with PK = 70258 to Group <Project_2_DFT_calculations_lumi_gpu>\n",
      "Submitted BaseWorkChain with PK = 70273 to Group <Project_2_DFT_calculations_lumi_gpu>\n",
      "Submitted BaseWorkChain with PK = 70289 to Group <Project_2_DFT_calculations_lumi_gpu>\n",
      "Submitted BaseWorkChain with PK = 70305 to Group <Project_2_DFT_calculations_lumi_gpu>\n",
      "Submitted BaseWorkChain with PK = 70325 to Group <Project_2_DFT_calculations_lumi_gpu>\n",
      "Submitted BaseWorkChain with PK = 70341 to Group <Project_2_DFT_calculations_lumi_gpu>\n",
      "Submitted BaseWorkChain with PK = 70356 to Group <Project_2_DFT_calculations_lumi_gpu>\n",
      "Submitted BaseWorkChain with PK = 70371 to Group <Project_2_DFT_calculations_lumi_gpu>\n",
      "Submitted BaseWorkChain with PK = 70386 to Group <Project_2_DFT_calculations_lumi_gpu>\n",
      "Submitted BaseWorkChain with PK = 70401 to Group <Project_2_DFT_calculations_lumi_gpu>\n",
      "Submitted BaseWorkChain with PK = 70417 to Group <Project_2_DFT_calculations_lumi_gpu>\n",
      "Submitted BaseWorkChain with PK = 70433 to Group <Project_2_DFT_calculations_lumi_gpu>\n",
      "Submitted BaseWorkChain with PK = 70452 to Group <Project_2_DFT_calculations_lumi_gpu>\n",
      "Submitted BaseWorkChain with PK = 70467 to Group <Project_2_DFT_calculations_lumi_gpu>\n",
      "Submitted BaseWorkChain with PK = 70482 to Group <Project_2_DFT_calculations_lumi_gpu>\n",
      "Submitted BaseWorkChain with PK = 70497 to Group <Project_2_DFT_calculations_lumi_gpu>\n",
      "Submitted BaseWorkChain with PK = 70512 to Group <Project_2_DFT_calculations_lumi_gpu>\n",
      "Submitted BaseWorkChain with PK = 70528 to Group <Project_2_DFT_calculations_lumi_gpu>\n",
      "Submitted BaseWorkChain with PK = 70543 to Group <Project_2_DFT_calculations_lumi_gpu>\n",
      "Submitted BaseWorkChain with PK = 70565 to Group <Project_2_DFT_calculations_lumi_gpu>\n",
      "Submitted BaseWorkChain with PK = 70580 to Group <Project_2_DFT_calculations_lumi_gpu>\n",
      "Submitted BaseWorkChain with PK = 70595 to Group <Project_2_DFT_calculations_lumi_gpu>\n",
      "Submitted BaseWorkChain with PK = 70610 to Group <Project_2_DFT_calculations_lumi_gpu>\n",
      "Submitted BaseWorkChain with PK = 70625 to Group <Project_2_DFT_calculations_lumi_gpu>\n",
      "Submitted BaseWorkChain with PK = 70642 to Group <Project_2_DFT_calculations_lumi_gpu>\n",
      "Submitted BaseWorkChain with PK = 70662 to Group <Project_2_DFT_calculations_lumi_gpu>\n",
      "Submitted BaseWorkChain with PK = 70681 to Group <Project_2_DFT_calculations_lumi_gpu>\n",
      "Submitted BaseWorkChain with PK = 70696 to Group <Project_2_DFT_calculations_lumi_gpu>\n",
      "Submitted BaseWorkChain with PK = 70711 to Group <Project_2_DFT_calculations_lumi_gpu>\n",
      "Submitted BaseWorkChain with PK = 70726 to Group <Project_2_DFT_calculations_lumi_gpu>\n",
      "Submitted BaseWorkChain with PK = 70742 to Group <Project_2_DFT_calculations_lumi_gpu>\n",
      "Submitted BaseWorkChain with PK = 70761 to Group <Project_2_DFT_calculations_lumi_gpu>\n",
      "Submitted BaseWorkChain with PK = 70777 to Group <Project_2_DFT_calculations_lumi_gpu>\n",
      "Submitted BaseWorkChain with PK = 70802 to Group <Project_2_DFT_calculations_lumi_gpu>\n",
      "Submitted BaseWorkChain with PK = 70820 to Group <Project_2_DFT_calculations_lumi_gpu>\n",
      "Submitted BaseWorkChain with PK = 70835 to Group <Project_2_DFT_calculations_lumi_gpu>\n",
      "Submitted BaseWorkChain with PK = 70850 to Group <Project_2_DFT_calculations_lumi_gpu>\n",
      "Submitted BaseWorkChain with PK = 70865 to Group <Project_2_DFT_calculations_lumi_gpu>\n",
      "Submitted BaseWorkChain with PK = 70882 to Group <Project_2_DFT_calculations_lumi_gpu>\n",
      "Submitted BaseWorkChain with PK = 70897 to Group <Project_2_DFT_calculations_lumi_gpu>\n",
      "Submitted BaseWorkChain with PK = 70914 to Group <Project_2_DFT_calculations_lumi_gpu>\n",
      "Submitted BaseWorkChain with PK = 70932 to Group <Project_2_DFT_calculations_lumi_gpu>\n",
      "Submitted BaseWorkChain with PK = 70947 to Group <Project_2_DFT_calculations_lumi_gpu>\n",
      "Submitted BaseWorkChain with PK = 70962 to Group <Project_2_DFT_calculations_lumi_gpu>\n",
      "Submitted BaseWorkChain with PK = 70977 to Group <Project_2_DFT_calculations_lumi_gpu>\n",
      "Submitted BaseWorkChain with PK = 70994 to Group <Project_2_DFT_calculations_lumi_gpu>\n",
      "Submitted BaseWorkChain with PK = 71009 to Group <Project_2_DFT_calculations_lumi_gpu>\n",
      "Submitted BaseWorkChain with PK = 71027 to Group <Project_2_DFT_calculations_lumi_gpu>\n",
      "Submitted BaseWorkChain with PK = 71044 to Group <Project_2_DFT_calculations_lumi_gpu>\n",
      "Submitted BaseWorkChain with PK = 71059 to Group <Project_2_DFT_calculations_lumi_gpu>\n",
      "Submitted BaseWorkChain with PK = 71074 to Group <Project_2_DFT_calculations_lumi_gpu>\n",
      "Submitted BaseWorkChain with PK = 71089 to Group <Project_2_DFT_calculations_lumi_gpu>\n",
      "Submitted BaseWorkChain with PK = 71105 to Group <Project_2_DFT_calculations_lumi_gpu>\n",
      "Submitted BaseWorkChain with PK = 71121 to Group <Project_2_DFT_calculations_lumi_gpu>\n",
      "Submitted BaseWorkChain with PK = 71138 to Group <Project_2_DFT_calculations_lumi_gpu>\n",
      "Submitted BaseWorkChain with PK = 71156 to Group <Project_2_DFT_calculations_lumi_gpu>\n",
      "Submitted BaseWorkChain with PK = 71171 to Group <Project_2_DFT_calculations_lumi_gpu>\n",
      "Submitted BaseWorkChain with PK = 71186 to Group <Project_2_DFT_calculations_lumi_gpu>\n",
      "Submitted BaseWorkChain with PK = 71201 to Group <Project_2_DFT_calculations_lumi_gpu>\n",
      "Submitted BaseWorkChain with PK = 71217 to Group <Project_2_DFT_calculations_lumi_gpu>\n",
      "Submitted BaseWorkChain with PK = 71233 to Group <Project_2_DFT_calculations_lumi_gpu>\n",
      "Submitted BaseWorkChain with PK = 71250 to Group <Project_2_DFT_calculations_lumi_gpu>\n",
      "Submitted BaseWorkChain with PK = 71268 to Group <Project_2_DFT_calculations_lumi_gpu>\n",
      "Submitted BaseWorkChain with PK = 71283 to Group <Project_2_DFT_calculations_lumi_gpu>\n",
      "Submitted BaseWorkChain with PK = 71298 to Group <Project_2_DFT_calculations_lumi_gpu>\n",
      "Submitted BaseWorkChain with PK = 71313 to Group <Project_2_DFT_calculations_lumi_gpu>\n",
      "Submitted BaseWorkChain with PK = 71330 to Group <Project_2_DFT_calculations_lumi_gpu>\n",
      "Submitted BaseWorkChain with PK = 71347 to Group <Project_2_DFT_calculations_lumi_gpu>\n",
      "Submitted BaseWorkChain with PK = 71363 to Group <Project_2_DFT_calculations_lumi_gpu>\n",
      "Submitted BaseWorkChain with PK = 71380 to Group <Project_2_DFT_calculations_lumi_gpu>\n",
      "Submitted BaseWorkChain with PK = 71395 to Group <Project_2_DFT_calculations_lumi_gpu>\n",
      "Submitted BaseWorkChain with PK = 71410 to Group <Project_2_DFT_calculations_lumi_gpu>\n",
      "Submitted BaseWorkChain with PK = 71425 to Group <Project_2_DFT_calculations_lumi_gpu>\n",
      "Submitted BaseWorkChain with PK = 71441 to Group <Project_2_DFT_calculations_lumi_gpu>\n",
      "Submitted BaseWorkChain with PK = 71458 to Group <Project_2_DFT_calculations_lumi_gpu>\n",
      "Submitted BaseWorkChain with PK = 71474 to Group <Project_2_DFT_calculations_lumi_gpu>\n",
      "Submitted BaseWorkChain with PK = 71492 to Group <Project_2_DFT_calculations_lumi_gpu>\n",
      "Submitted BaseWorkChain with PK = 71507 to Group <Project_2_DFT_calculations_lumi_gpu>\n",
      "Submitted BaseWorkChain with PK = 71522 to Group <Project_2_DFT_calculations_lumi_gpu>\n",
      "Submitted BaseWorkChain with PK = 71537 to Group <Project_2_DFT_calculations_lumi_gpu>\n",
      "Submitted BaseWorkChain with PK = 71553 to Group <Project_2_DFT_calculations_lumi_gpu>\n",
      "Submitted BaseWorkChain with PK = 71571 to Group <Project_2_DFT_calculations_lumi_gpu>\n",
      "Submitted BaseWorkChain with PK = 71587 to Group <Project_2_DFT_calculations_lumi_gpu>\n",
      "Submitted BaseWorkChain with PK = 71604 to Group <Project_2_DFT_calculations_lumi_gpu>\n",
      "Submitted BaseWorkChain with PK = 71619 to Group <Project_2_DFT_calculations_lumi_gpu>\n",
      "Submitted BaseWorkChain with PK = 71634 to Group <Project_2_DFT_calculations_lumi_gpu>\n",
      "Submitted BaseWorkChain with PK = 71649 to Group <Project_2_DFT_calculations_lumi_gpu>\n",
      "Submitted BaseWorkChain with PK = 71665 to Group <Project_2_DFT_calculations_lumi_gpu>\n",
      "Submitted BaseWorkChain with PK = 71681 to Group <Project_2_DFT_calculations_lumi_gpu>\n",
      "Submitted BaseWorkChain with PK = 71697 to Group <Project_2_DFT_calculations_lumi_gpu>\n",
      "Submitted BaseWorkChain with PK = 71715 to Group <Project_2_DFT_calculations_lumi_gpu>\n",
      "Submitted BaseWorkChain with PK = 71730 to Group <Project_2_DFT_calculations_lumi_gpu>\n",
      "Submitted BaseWorkChain with PK = 71745 to Group <Project_2_DFT_calculations_lumi_gpu>\n",
      "Submitted BaseWorkChain with PK = 71760 to Group <Project_2_DFT_calculations_lumi_gpu>\n",
      "Submitted BaseWorkChain with PK = 71779 to Group <Project_2_DFT_calculations_lumi_gpu>\n",
      "Submitted BaseWorkChain with PK = 71795 to Group <Project_2_DFT_calculations_lumi_gpu>\n",
      "Submitted BaseWorkChain with PK = 71811 to Group <Project_2_DFT_calculations_lumi_gpu>\n",
      "Submitted BaseWorkChain with PK = 71827 to Group <Project_2_DFT_calculations_lumi_gpu>\n",
      "Submitted BaseWorkChain with PK = 71842 to Group <Project_2_DFT_calculations_lumi_gpu>\n",
      "Submitted BaseWorkChain with PK = 71857 to Group <Project_2_DFT_calculations_lumi_gpu>\n",
      "Submitted BaseWorkChain with PK = 71872 to Group <Project_2_DFT_calculations_lumi_gpu>\n",
      "Submitted BaseWorkChain with PK = 71890 to Group <Project_2_DFT_calculations_lumi_gpu>\n",
      "Submitted BaseWorkChain with PK = 71906 to Group <Project_2_DFT_calculations_lumi_gpu>\n",
      "Submitted BaseWorkChain with PK = 71921 to Group <Project_2_DFT_calculations_lumi_gpu>\n",
      "Submitted BaseWorkChain with PK = 71939 to Group <Project_2_DFT_calculations_lumi_gpu>\n",
      "Submitted BaseWorkChain with PK = 71954 to Group <Project_2_DFT_calculations_lumi_gpu>\n",
      "Submitted BaseWorkChain with PK = 71969 to Group <Project_2_DFT_calculations_lumi_gpu>\n",
      "Submitted BaseWorkChain with PK = 71984 to Group <Project_2_DFT_calculations_lumi_gpu>\n",
      "Submitted BaseWorkChain with PK = 72001 to Group <Project_2_DFT_calculations_lumi_gpu>\n",
      "Submitted BaseWorkChain with PK = 72018 to Group <Project_2_DFT_calculations_lumi_gpu>\n",
      "Submitted BaseWorkChain with PK = 72033 to Group <Project_2_DFT_calculations_lumi_gpu>\n",
      "Submitted BaseWorkChain with PK = 72050 to Group <Project_2_DFT_calculations_lumi_gpu>\n",
      "Submitted BaseWorkChain with PK = 72065 to Group <Project_2_DFT_calculations_lumi_gpu>\n",
      "Submitted BaseWorkChain with PK = 72080 to Group <Project_2_DFT_calculations_lumi_gpu>\n",
      "Submitted BaseWorkChain with PK = 72096 to Group <Project_2_DFT_calculations_lumi_gpu>\n",
      "Submitted BaseWorkChain with PK = 72126 to Group <Project_2_DFT_calculations_lumi_gpu>\n",
      "Submitted BaseWorkChain with PK = 72147 to Group <Project_2_DFT_calculations_lumi_gpu>\n",
      "Submitted BaseWorkChain with PK = 72169 to Group <Project_2_DFT_calculations_lumi_gpu>\n",
      "Submitted BaseWorkChain with PK = 72193 to Group <Project_2_DFT_calculations_lumi_gpu>\n",
      "Submitted BaseWorkChain with PK = 72213 to Group <Project_2_DFT_calculations_lumi_gpu>\n",
      "Submitted BaseWorkChain with PK = 72233 to Group <Project_2_DFT_calculations_lumi_gpu>\n",
      "Submitted BaseWorkChain with PK = 72252 to Group <Project_2_DFT_calculations_lumi_gpu>\n",
      "Submitted BaseWorkChain with PK = 72269 to Group <Project_2_DFT_calculations_lumi_gpu>\n",
      "Submitted BaseWorkChain with PK = 72286 to Group <Project_2_DFT_calculations_lumi_gpu>\n",
      "Submitted BaseWorkChain with PK = 72302 to Group <Project_2_DFT_calculations_lumi_gpu>\n",
      "Submitted BaseWorkChain with PK = 72318 to Group <Project_2_DFT_calculations_lumi_gpu>\n",
      "Submitted BaseWorkChain with PK = 72334 to Group <Project_2_DFT_calculations_lumi_gpu>\n",
      "Submitted BaseWorkChain with PK = 72349 to Group <Project_2_DFT_calculations_lumi_gpu>\n",
      "Submitted BaseWorkChain with PK = 72366 to Group <Project_2_DFT_calculations_lumi_gpu>\n",
      "Submitted BaseWorkChain with PK = 72382 to Group <Project_2_DFT_calculations_lumi_gpu>\n",
      "Submitted BaseWorkChain with PK = 72398 to Group <Project_2_DFT_calculations_lumi_gpu>\n",
      "Submitted BaseWorkChain with PK = 72414 to Group <Project_2_DFT_calculations_lumi_gpu>\n",
      "Submitted BaseWorkChain with PK = 72429 to Group <Project_2_DFT_calculations_lumi_gpu>\n",
      "Submitted BaseWorkChain with PK = 72445 to Group <Project_2_DFT_calculations_lumi_gpu>\n",
      "Submitted BaseWorkChain with PK = 72461 to Group <Project_2_DFT_calculations_lumi_gpu>\n",
      "Submitted BaseWorkChain with PK = 72479 to Group <Project_2_DFT_calculations_lumi_gpu>\n",
      "Submitted BaseWorkChain with PK = 72506 to Group <Project_2_DFT_calculations_lumi_gpu>\n",
      "Submitted BaseWorkChain with PK = 72532 to Group <Project_2_DFT_calculations_lumi_gpu>\n",
      "Submitted BaseWorkChain with PK = 72555 to Group <Project_2_DFT_calculations_lumi_gpu>\n",
      "Submitted BaseWorkChain with PK = 72575 to Group <Project_2_DFT_calculations_lumi_gpu>\n",
      "Submitted BaseWorkChain with PK = 72594 to Group <Project_2_DFT_calculations_lumi_gpu>\n",
      "Submitted BaseWorkChain with PK = 72609 to Group <Project_2_DFT_calculations_lumi_gpu>\n",
      "Submitted BaseWorkChain with PK = 72625 to Group <Project_2_DFT_calculations_lumi_gpu>\n",
      "Submitted BaseWorkChain with PK = 72643 to Group <Project_2_DFT_calculations_lumi_gpu>\n",
      "Submitted BaseWorkChain with PK = 72662 to Group <Project_2_DFT_calculations_lumi_gpu>\n",
      "Submitted BaseWorkChain with PK = 72678 to Group <Project_2_DFT_calculations_lumi_gpu>\n",
      "Submitted BaseWorkChain with PK = 72694 to Group <Project_2_DFT_calculations_lumi_gpu>\n",
      "Submitted BaseWorkChain with PK = 72710 to Group <Project_2_DFT_calculations_lumi_gpu>\n",
      "Submitted BaseWorkChain with PK = 72725 to Group <Project_2_DFT_calculations_lumi_gpu>\n",
      "Submitted BaseWorkChain with PK = 72740 to Group <Project_2_DFT_calculations_lumi_gpu>\n",
      "Submitted BaseWorkChain with PK = 72757 to Group <Project_2_DFT_calculations_lumi_gpu>\n",
      "Submitted BaseWorkChain with PK = 72774 to Group <Project_2_DFT_calculations_lumi_gpu>\n",
      "Submitted BaseWorkChain with PK = 72791 to Group <Project_2_DFT_calculations_lumi_gpu>\n",
      "Submitted BaseWorkChain with PK = 72809 to Group <Project_2_DFT_calculations_lumi_gpu>\n",
      "Submitted BaseWorkChain with PK = 72824 to Group <Project_2_DFT_calculations_lumi_gpu>\n",
      "Submitted BaseWorkChain with PK = 72839 to Group <Project_2_DFT_calculations_lumi_gpu>\n",
      "Submitted BaseWorkChain with PK = 72854 to Group <Project_2_DFT_calculations_lumi_gpu>\n",
      "Submitted BaseWorkChain with PK = 72869 to Group <Project_2_DFT_calculations_lumi_gpu>\n",
      "Submitted BaseWorkChain with PK = 72888 to Group <Project_2_DFT_calculations_lumi_gpu>\n",
      "Submitted BaseWorkChain with PK = 72903 to Group <Project_2_DFT_calculations_lumi_gpu>\n",
      "Submitted BaseWorkChain with PK = 72918 to Group <Project_2_DFT_calculations_lumi_gpu>\n",
      "Submitted BaseWorkChain with PK = 72934 to Group <Project_2_DFT_calculations_lumi_gpu>\n",
      "Submitted BaseWorkChain with PK = 72950 to Group <Project_2_DFT_calculations_lumi_gpu>\n",
      "Submitted BaseWorkChain with PK = 72965 to Group <Project_2_DFT_calculations_lumi_gpu>\n",
      "Submitted BaseWorkChain with PK = 72981 to Group <Project_2_DFT_calculations_lumi_gpu>\n",
      "Submitted BaseWorkChain with PK = 72998 to Group <Project_2_DFT_calculations_lumi_gpu>\n",
      "Submitted BaseWorkChain with PK = 73015 to Group <Project_2_DFT_calculations_lumi_gpu>\n",
      "Submitted BaseWorkChain with PK = 73031 to Group <Project_2_DFT_calculations_lumi_gpu>\n",
      "Submitted BaseWorkChain with PK = 73048 to Group <Project_2_DFT_calculations_lumi_gpu>\n",
      "Submitted BaseWorkChain with PK = 73063 to Group <Project_2_DFT_calculations_lumi_gpu>\n",
      "Submitted BaseWorkChain with PK = 73079 to Group <Project_2_DFT_calculations_lumi_gpu>\n",
      "Submitted BaseWorkChain with PK = 73094 to Group <Project_2_DFT_calculations_lumi_gpu>\n",
      "Submitted BaseWorkChain with PK = 73119 to Group <Project_2_DFT_calculations_lumi_gpu>\n",
      "Submitted BaseWorkChain with PK = 73144 to Group <Project_2_DFT_calculations_lumi_gpu>\n",
      "Submitted BaseWorkChain with PK = 73164 to Group <Project_2_DFT_calculations_lumi_gpu>\n",
      "Submitted BaseWorkChain with PK = 73184 to Group <Project_2_DFT_calculations_lumi_gpu>\n",
      "Submitted BaseWorkChain with PK = 73202 to Group <Project_2_DFT_calculations_lumi_gpu>\n",
      "Submitted BaseWorkChain with PK = 73217 to Group <Project_2_DFT_calculations_lumi_gpu>\n",
      "Submitted BaseWorkChain with PK = 73233 to Group <Project_2_DFT_calculations_lumi_gpu>\n",
      "Submitted BaseWorkChain with PK = 73249 to Group <Project_2_DFT_calculations_lumi_gpu>\n",
      "Submitted BaseWorkChain with PK = 73266 to Group <Project_2_DFT_calculations_lumi_gpu>\n",
      "Submitted BaseWorkChain with PK = 73284 to Group <Project_2_DFT_calculations_lumi_gpu>\n",
      "Submitted BaseWorkChain with PK = 73300 to Group <Project_2_DFT_calculations_lumi_gpu>\n",
      "Submitted BaseWorkChain with PK = 73317 to Group <Project_2_DFT_calculations_lumi_gpu>\n",
      "Submitted BaseWorkChain with PK = 73332 to Group <Project_2_DFT_calculations_lumi_gpu>\n",
      "Submitted BaseWorkChain with PK = 73349 to Group <Project_2_DFT_calculations_lumi_gpu>\n",
      "Submitted BaseWorkChain with PK = 73364 to Group <Project_2_DFT_calculations_lumi_gpu>\n",
      "Submitted BaseWorkChain with PK = 73379 to Group <Project_2_DFT_calculations_lumi_gpu>\n",
      "Submitted BaseWorkChain with PK = 73394 to Group <Project_2_DFT_calculations_lumi_gpu>\n",
      "Submitted BaseWorkChain with PK = 73410 to Group <Project_2_DFT_calculations_lumi_gpu>\n",
      "Submitted BaseWorkChain with PK = 73425 to Group <Project_2_DFT_calculations_lumi_gpu>\n",
      "Submitted BaseWorkChain with PK = 73441 to Group <Project_2_DFT_calculations_lumi_gpu>\n",
      "Submitted BaseWorkChain with PK = 73457 to Group <Project_2_DFT_calculations_lumi_gpu>\n",
      "Submitted BaseWorkChain with PK = 73473 to Group <Project_2_DFT_calculations_lumi_gpu>\n",
      "Submitted BaseWorkChain with PK = 73491 to Group <Project_2_DFT_calculations_lumi_gpu>\n",
      "Submitted BaseWorkChain with PK = 73506 to Group <Project_2_DFT_calculations_lumi_gpu>\n",
      "Submitted BaseWorkChain with PK = 73524 to Group <Project_2_DFT_calculations_lumi_gpu>\n",
      "Submitted BaseWorkChain with PK = 73540 to Group <Project_2_DFT_calculations_lumi_gpu>\n",
      "Submitted BaseWorkChain with PK = 73555 to Group <Project_2_DFT_calculations_lumi_gpu>\n",
      "Submitted BaseWorkChain with PK = 73570 to Group <Project_2_DFT_calculations_lumi_gpu>\n",
      "Submitted BaseWorkChain with PK = 73587 to Group <Project_2_DFT_calculations_lumi_gpu>\n",
      "Submitted BaseWorkChain with PK = 73603 to Group <Project_2_DFT_calculations_lumi_gpu>\n",
      "Submitted BaseWorkChain with PK = 73618 to Group <Project_2_DFT_calculations_lumi_gpu>\n",
      "Submitted BaseWorkChain with PK = 73634 to Group <Project_2_DFT_calculations_lumi_gpu>\n",
      "Submitted BaseWorkChain with PK = 73649 to Group <Project_2_DFT_calculations_lumi_gpu>\n",
      "Submitted BaseWorkChain with PK = 73664 to Group <Project_2_DFT_calculations_lumi_gpu>\n",
      "Submitted BaseWorkChain with PK = 73681 to Group <Project_2_DFT_calculations_lumi_gpu>\n",
      "Submitted BaseWorkChain with PK = 73698 to Group <Project_2_DFT_calculations_lumi_gpu>\n",
      "Submitted BaseWorkChain with PK = 73719 to Group <Project_2_DFT_calculations_lumi_gpu>\n",
      "Submitted BaseWorkChain with PK = 73743 to Group <Project_2_DFT_calculations_lumi_gpu>\n",
      "Submitted BaseWorkChain with PK = 73766 to Group <Project_2_DFT_calculations_lumi_gpu>\n",
      "Submitted BaseWorkChain with PK = 73786 to Group <Project_2_DFT_calculations_lumi_gpu>\n",
      "Submitted BaseWorkChain with PK = 73812 to Group <Project_2_DFT_calculations_lumi_gpu>\n",
      "Submitted BaseWorkChain with PK = 73832 to Group <Project_2_DFT_calculations_lumi_gpu>\n"
     ]
    },
    {
     "ename": "KeyboardInterrupt",
     "evalue": "",
     "output_type": "error",
     "traceback": [
      "\u001b[0;31m---------------------------------------------------------------------------\u001b[0m",
      "\u001b[0;31mKeyboardInterrupt\u001b[0m                         Traceback (most recent call last)",
      "Cell \u001b[0;32mIn[12], line 56\u001b[0m\n\u001b[1;32m     53\u001b[0m \u001b[38;5;28mprint\u001b[39m(\u001b[38;5;124mf\u001b[39m\u001b[38;5;124m'\u001b[39m\u001b[38;5;124mSubmitted BaseWorkChain with PK = \u001b[39m\u001b[38;5;132;01m{\u001b[39;00mwc_node\u001b[38;5;241m.\u001b[39mpk\u001b[38;5;132;01m}\u001b[39;00m\u001b[38;5;124m to Group <\u001b[39m\u001b[38;5;132;01m{\u001b[39;00mgroup\u001b[38;5;241m.\u001b[39mlabel\u001b[38;5;132;01m}\u001b[39;00m\u001b[38;5;124m>\u001b[39m\u001b[38;5;124m'\u001b[39m)\n\u001b[1;32m     55\u001b[0m \u001b[38;5;66;03m# to not overload the daemon\u001b[39;00m\n\u001b[0;32m---> 56\u001b[0m time\u001b[38;5;241m.\u001b[39msleep(\u001b[38;5;241m5\u001b[39m)\n\u001b[1;32m     58\u001b[0m group\u001b[38;5;241m.\u001b[39madd_nodes(wc_node)\n",
      "\u001b[0;31mKeyboardInterrupt\u001b[0m: "
     ]
    }
   ],
   "source": [
    "## Taking the dumps of lammps and launching PwBaseWC on them to get more training data\n",
    "\n",
    "## IMPORTANT: This cell will not work if you don't have the permission to use the LUMI-GPU cluster\n",
    "\n",
    "lammps_dump = '/home/tthakur/git/cs433/project2/cs433-project-2/simulations/MD_1_2/dump_all.lmc'\n",
    "l_dump_all = read(lammps_dump, format='lammps-dump-text', index=':')\n",
    "\n",
    "PwBaseWorkChain = WorkflowFactory('quantumespresso.pw.base')\n",
    "overrides = {\"pseudo_family\": \"SSSP/1.3/PBEsol/efficiency\"}\n",
    "\n",
    "group_label = 'Project_2_DFT_calculations_lumi_gpu'\n",
    "try:\n",
    "    group = orm.load_group(group_label)\n",
    "except NotExistent:\n",
    "    print(f'Group<{group_label}> does not exist, creating...')\n",
    "    group = orm.Group(label=group_label)\n",
    "    group.store()\n",
    "\n",
    "# Not using the last few configurations that exploded\n",
    "for idx, l_dump in enumerate(l_dump_all[:1000]):\n",
    "\n",
    "    structure = orm.StructureData()\n",
    "    structure.set_ase(l_dump)\n",
    "    structure.set_extra('lammps_file', f'dump_{idx+1}')\n",
    "\n",
    "    builder = PwBaseWorkChain.get_builder_from_protocol(code=orm.load_code('qe-sirius@lumi-gpu'), structure=structure, \n",
    "    overrides=overrides, electronic_type=ElectronicType.INSULATOR)\n",
    "\n",
    "    builder.pw.metadata.options['mpirun_extra_params'] = ['--cpu-bind=verbose,${CPU_BIND}', '--gpu-bind=verbose,${GPU_BIND}']\n",
    "\n",
    "    # Short calculations\n",
    "    builder.pw.metadata['options']['max_wallclock_seconds'] = 1800\n",
    "    builder.pw.metadata['options']['resources']['num_machines'] = 1\n",
    "\n",
    "    builder.pw.parallelization = orm.Dict(dict={'npool': 8})\n",
    "\n",
    "    builder['pw']['parameters']['CONTROL']['verbosity'] = 'low'\n",
    "\n",
    "    builder['pw']['parameters']['SYSTEM']['nosym'] = False\n",
    "\n",
    "    builder['pw']['parameters']['ELECTRONS']['conv_thr'] *= 10 \n",
    "    builder['pw']['parameters']['ELECTRONS']['mixing_beta'] = 0.2\n",
    "    builder['pw']['parameters']['ELECTRONS']['electron_maxstep'] = 200\n",
    "    \n",
    "    builder['pw']['settings'] = orm.Dict({'gamma_only': False, 'cmdline': ['-sirius_cfg', 'sirius.json']})\n",
    "\n",
    "    builder['max_iterations'] = orm.Int(2)\n",
    "\n",
    "    builder['kpoints_distance'] = orm.Float(0.30)\n",
    "\n",
    "    builder.clean_workdir = orm.Bool(False)\n",
    "\n",
    "    wc_node = submit(builder)\n",
    "\n",
    "    print(f'Submitted BaseWorkChain with PK = {wc_node.pk} to Group <{group.label}>')\n",
    "\n",
    "    # to not overload the daemon\n",
    "    time.sleep(5)\n",
    "\n",
    "    group.add_nodes(wc_node)"
   ]
  },
  {
   "cell_type": "markdown",
   "metadata": {},
   "source": [
    "### Forces comparison"
   ]
  },
  {
   "cell_type": "code",
   "execution_count": 40,
   "metadata": {},
   "outputs": [
    {
     "name": "stdout",
     "output_type": "stream",
     "text": [
      "105\n"
     ]
    },
    {
     "name": "stderr",
     "output_type": "stream",
     "text": [
      "/tmp/ipykernel_1609307/3627484333.py:14: MatplotlibDeprecationWarning: The get_cmap function was deprecated in Matplotlib 3.7 and will be removed two minor releases later. Use ``matplotlib.colormaps[name]`` or ``matplotlib.colormaps.get_cmap(obj)`` instead.\n",
      "  colormap = plt.cm.get_cmap('viridis')\n",
      "/tmp/ipykernel_1609307/3627484333.py:36: UserWarning: Matplotlib is currently using module://matplotlib_inline.backend_inline, which is a non-GUI backend, so cannot show the figure.\n",
      "  fig.show()\n"
     ]
    },
    {
     "data": {
      "image/png": "[encoded data removed]",
      "text/plain": [
       "<Figure size 600x500 with 1 Axes>"
      ]
     },
     "metadata": {},
     "output_type": "display_data"
    }
   ],
   "source": [
    "## Forces comparison DFT vs Nequip\n",
    "\n",
    "# Queryinh DFT workchains\n",
    "group_lable = 'Project_2_DFT_calculations_lumi_gpu'\n",
    "qb = orm.QueryBuilder()\n",
    "qb.append(orm.Group, filters={'label':{'like':group_lable}}, tag='imported_g')\n",
    "qb.append(WorkflowFactory('quantumespresso.pw.base'), with_group='imported_g', tag='base',\n",
    "filters={'and':[{'attributes.process_state': {'==': 'finished'}}, ]})\n",
    "print(qb.count())\n",
    "base_wcs = qb.all(flat=True)\n",
    "\n",
    "plt.rcParams.update({'font.size': 12, 'axes.labelsize': 12})\n",
    "fig, ax = plt.subplots(nrows=1, ncols=1, figsize=(6,5))\n",
    "colormap = plt.cm.get_cmap('viridis') \n",
    "\n",
    "for wc in base_wcs:\n",
    "    traj = wc.outputs.output_trajectory\n",
    "    file = wc.inputs.pw.structure.extras['lammps_file']\n",
    "    l_dump = l_dump_all[int(file.split('_')[1]) - 1]\n",
    "\n",
    "    force_dft = traj.get_array('forces')\n",
    "    force_nequip = l_dump.get_forces()\n",
    "\n",
    "    num_columns = force_nequip.shape[1]\n",
    "\n",
    "    # Loop through each column and assign a different color\n",
    "    for i in range(num_columns):\n",
    "        color = colormap(i / (num_columns - 1))  # Normalize the column index to [0, 1]\n",
    "        ax.plot(force_dft[0][:, i], force_nequip[:, i], 'o', color=color)\n",
    "\n",
    "    ax.axline(xy1=(0, 0), slope=1, color='black')\n",
    "\n",
    "fig.tight_layout()\n",
    "fig.text(0.5, -0.02, 'DFT forces (meV/atom)', fontsize=12, ha='center')\n",
    "fig.text(-0.01, 0.5, 'NequIP forces (meV/atom)', fontsize=12, va='center', rotation='vertical')\n",
    "fig.show()"
   ]
  }
 ],
 "metadata": {
  "kernelspec": {
   "display_name": "aiida240",
   "language": "python",
   "name": "python3"
  },
  "language_info": {
   "codemirror_mode": {
    "name": "ipython",
    "version": 3
   },
   "file_extension": ".py",
   "mimetype": "text/x-python",
   "name": "python",
   "nbconvert_exporter": "python",
   "pygments_lexer": "ipython3",
   "version": "3.11.0"
  }
 },
 "nbformat": 4,
 "nbformat_minor": 2
}
